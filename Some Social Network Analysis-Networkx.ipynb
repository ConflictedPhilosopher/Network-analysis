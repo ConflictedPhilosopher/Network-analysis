{
 "cells": [
  {
   "cell_type": "code",
   "execution_count": 1,
   "id": "spread-actress",
   "metadata": {},
   "outputs": [],
   "source": [
    "import networkx as nx\n",
    "import matplotlib.pyplot as plt\n",
    "\n",
    "%matplotlib notebook"
   ]
  },
  {
   "cell_type": "code",
   "execution_count": 2,
   "id": "printable-romania",
   "metadata": {},
   "outputs": [
    {
     "name": "stdout",
     "output_type": "stream",
     "text": [
      "Number of employees 167, and number of emails 82927.\n"
     ]
    }
   ],
   "source": [
    "G_md = nx.read_edgelist('email_network.txt', create_using=nx.MultiDiGraph(), data=[('weight', int)])\n",
    "employees_n = len(G_md.nodes())\n",
    "emails_n = len(G_md.edges())\n",
    "print('Number of employees {}, and number of emails {}.'.format(employees_n, emails_n))"
   ]
  },
  {
   "cell_type": "code",
   "execution_count": 3,
   "id": "incident-value",
   "metadata": {},
   "outputs": [
    {
     "name": "stdout",
     "output_type": "stream",
     "text": [
      "G_md is strongly connected: False\n",
      "G_md is weakly connected: True\n"
     ]
    }
   ],
   "source": [
    "print('G_md is strongly connected: {}'.format(nx.is_strongly_connected(G_md)))\n",
    "print('G_md is weakly connected: {}'.format(nx.is_weakly_connected(G_md)))"
   ]
  },
  {
   "cell_type": "code",
   "execution_count": 4,
   "id": "foster-begin",
   "metadata": {},
   "outputs": [
    {
     "name": "stdout",
     "output_type": "stream",
     "text": [
      "Number of weakly connected components 1\n",
      "Number of nodes in the largest component 167\n"
     ]
    }
   ],
   "source": [
    "components = sorted(nx.weakly_connected_components(G_md))\n",
    "print('Number of weakly connected components {}'.format(len(components)))\n",
    "largest = max(components, key=len)\n",
    "print('Number of nodes in the largest component {}'.format(len(largest)))"
   ]
  },
  {
   "cell_type": "code",
   "execution_count": 5,
   "id": "medical-superintendent",
   "metadata": {},
   "outputs": [
    {
     "name": "stdout",
     "output_type": "stream",
     "text": [
      "Number of strongly connected components 42\n",
      "Number of nodes in the largest component 126\n"
     ]
    }
   ],
   "source": [
    "components = sorted(nx.strongly_connected_components(G_md))\n",
    "print('Number of strongly connected components {}'.format(len(components)))\n",
    "largest = max(components, key=len)\n",
    "print('Number of nodes in the largest component {}'.format(len(largest)))"
   ]
  },
  {
   "cell_type": "code",
   "execution_count": 49,
   "id": "funded-convertible",
   "metadata": {
    "scrolled": true
   },
   "outputs": [],
   "source": [
    "# The subgraph of the largest strongly connected component\n",
    "G_sc = G_md.subgraph(largest)"
   ]
  },
  {
   "cell_type": "code",
   "execution_count": 10,
   "id": "global-decrease",
   "metadata": {},
   "outputs": [
    {
     "name": "stdout",
     "output_type": "stream",
     "text": [
      "Avg distance between nodes in G_sc is 1.6462\n",
      "Diameter of G_sc is 3\n",
      "Radius of G_sc is 1\n"
     ]
    }
   ],
   "source": [
    "avg_d = nx.average_shortest_path_length(G_sc)\n",
    "print('Avg distance between nodes in G_sc is {:.5}'.format(avg_d))\n",
    "d = nx.diameter(G_sc)\n",
    "print('Diameter of G_sc is {}'.format(d))\n",
    "r = nx.radius(G_sc)\n",
    "print('Radius of G_sc is {}'.format(r))"
   ]
  },
  {
   "cell_type": "code",
   "execution_count": 33,
   "id": "jewish-planner",
   "metadata": {},
   "outputs": [],
   "source": [
    "# Nodes of G_sc that have eccentricity equal to the diameter of the subgraph, i.e., nodes on the periphery of the graph\n",
    "nodes_dia = nx.periphery(G_sc)\n",
    "# Nodes of G_sc that have eccentricity equal to the radius of the subgraph, i.e., nodes in the center of the graph\n",
    "nodes_rad = nx.center(G_sc)"
   ]
  },
  {
   "cell_type": "code",
   "execution_count": 34,
   "id": "wired-finnish",
   "metadata": {},
   "outputs": [
    {
     "data": {
      "text/plain": [
       "'97'"
      ]
     },
     "execution_count": 34,
     "metadata": {},
     "output_type": "execute_result"
    }
   ],
   "source": [
    "# Node which is connected to the most other nodes by a shortest path of length equal to the diameter of G_sc\n",
    "count_connected = [(n1, len([n2 for n2 in G_sc.nodes() if nx.shortest_path_length(G_sc, n1, n2)==d])) for n1 in G_sc.nodes()]\n",
    "max_connected = max([p[1] for p in count_connected])\n",
    "node = [p[0] for p in count_connected if p[1] == max_connected][0]\n",
    "node"
   ]
  },
  {
   "cell_type": "code",
   "execution_count": 40,
   "id": "southern-tampa",
   "metadata": {},
   "outputs": [],
   "source": [
    "nodes_center = nx.center(G_sc)[0]\n",
    "min_cut = nx.minimum_node_cut(G_sc, '38', '97')"
   ]
  },
  {
   "cell_type": "code",
   "execution_count": 15,
   "id": "political-bradford",
   "metadata": {},
   "outputs": [
    {
     "name": "stdout",
     "output_type": "stream",
     "text": [
      "Transitivity of G is 0.5701, and its average clustering coefficient is 0.6975\n"
     ]
    }
   ],
   "source": [
    "# Undirected graph obtained from G_sc\n",
    "G_mul = G_sc.to_undirected()\n",
    "G = nx.Graph()\n",
    "for u,v in G_mul.edges():\n",
    "    if G.has_edge(u, v):\n",
    "        pass\n",
    "    else:\n",
    "        G.add_edge(u, v)\n",
    "\n",
    "trans = nx.transitivity(G)\n",
    "avg_clustering = nx.average_clustering(G)\n",
    "print('Transitivity of G is {:.4}, and its average clustering coefficient is {:.4}'.format(trans, avg_clustering))"
   ]
  },
  {
   "cell_type": "code",
   "execution_count": null,
   "id": "solid-throw",
   "metadata": {},
   "outputs": [],
   "source": []
  }
 ],
 "metadata": {
  "kernelspec": {
   "display_name": "Python 3",
   "language": "python",
   "name": "python3"
  },
  "language_info": {
   "codemirror_mode": {
    "name": "ipython",
    "version": 3
   },
   "file_extension": ".py",
   "mimetype": "text/x-python",
   "name": "python",
   "nbconvert_exporter": "python",
   "pygments_lexer": "ipython3",
   "version": "3.8.8"
  }
 },
 "nbformat": 4,
 "nbformat_minor": 5
}
