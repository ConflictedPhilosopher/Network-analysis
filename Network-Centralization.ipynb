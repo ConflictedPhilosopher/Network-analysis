{
 "cells": [
  {
   "cell_type": "code",
   "execution_count": 1,
   "id": "integral-ceramic",
   "metadata": {},
   "outputs": [],
   "source": [
    "import networkx as nx"
   ]
  },
  {
   "cell_type": "markdown",
   "id": "interesting-identifier",
   "metadata": {},
   "source": [
    "### Analyzing a friendship network"
   ]
  },
  {
   "cell_type": "code",
   "execution_count": 14,
   "id": "sharing-effort",
   "metadata": {},
   "outputs": [
    {
     "name": "stdout",
     "output_type": "stream",
     "text": [
      "Number of nodes 1133, and number of edges 5453.\n"
     ]
    }
   ],
   "source": [
    "G_friendship = nx.read_gml('friendships.gml')\n",
    "print('Number of nodes {}, and number of edges {}.'.format(len(G_friendship.nodes()), len(G_friendship.edges())))"
   ]
  },
  {
   "cell_type": "code",
   "execution_count": 9,
   "id": "round-silence",
   "metadata": {},
   "outputs": [
    {
     "name": "stdout",
     "output_type": "stream",
     "text": [
      "Five nodes with the highest \"degree centrality\" are [105, 23, 333, 16, 42]\n"
     ]
    }
   ],
   "source": [
    "degrees = sorted(nx.degree_centrality(G_friendship).items(), key=lambda x: x[1], reverse=True)\n",
    "highest_degree = [n[0] for n in degrees[:5]]\n",
    "print('Five nodes with the highest \"degree centrality\" are {}'.format(highest_degree))"
   ]
  },
  {
   "cell_type": "code",
   "execution_count": 10,
   "id": "fewer-spanish",
   "metadata": {},
   "outputs": [
    {
     "name": "stdout",
     "output_type": "stream",
     "text": [
      "Five nodes with the highest \"closeness centrality\" are [23, 333, 105, 42, 41]\n"
     ]
    }
   ],
   "source": [
    "distances = sorted(nx.closeness_centrality(G_friendship).items(), key=lambda x: x[1], reverse=True)\n",
    "closest = [n[0] for n in distances[:5]]\n",
    "print('Five nodes with the highest \"closeness centrality\" are {}'.format(closest))"
   ]
  },
  {
   "cell_type": "code",
   "execution_count": 11,
   "id": "pending-pride",
   "metadata": {},
   "outputs": [
    {
     "name": "stdout",
     "output_type": "stream",
     "text": [
      "Five nodes with the highest \"betweenness centrality\" are [333, 105, 23, 578, 76]\n"
     ]
    }
   ],
   "source": [
    "centralities = sorted(nx.betweenness_centrality(G_friendship).items(), key=lambda x:x[1], reverse=True)\n",
    "betweenest = [n[0] for n in centralities[:5]]\n",
    "print('Five nodes with the highest \"betweenness centrality\" are {}'.format(betweenest))"
   ]
  },
  {
   "cell_type": "markdown",
   "id": "young-reservoir",
   "metadata": {},
   "source": [
    "### Analyzing a network of polytical blogs"
   ]
  },
  {
   "cell_type": "code",
   "execution_count": 16,
   "id": "compatible-denmark",
   "metadata": {},
   "outputs": [
    {
     "name": "stdout",
     "output_type": "stream",
     "text": [
      "Number of nodes 1490, and number of edges 19025.\n"
     ]
    }
   ],
   "source": [
    "G_blogs = nx.read_gml('blogs.gml')\n",
    "print('Number of nodes {}, and number of edges {}.'.format(len(G_blogs.nodes()), len(G_blogs.edges())))"
   ]
  },
  {
   "cell_type": "code",
   "execution_count": 21,
   "id": "aboriginal-berkeley",
   "metadata": {},
   "outputs": [
    {
     "name": "stdout",
     "output_type": "stream",
     "text": [
      "Five blogs with the highest \"pagerank\" are\n",
      "['dailykos.com', 'atrios.blogspot.com', 'instapundit.com', 'blogsforbush.com', 'talkingpointsmemo.com']\n"
     ]
    }
   ],
   "source": [
    "pr_sorted = sorted(nx.pagerank(G_blogs, alpha=0.85).items(), key=lambda x:x[1], reverse=True)\n",
    "top5_pr = [blog[0] for blog in pr_sorted[:5]]\n",
    "print('Five blogs with the highest \"pagerank\" are\\n{}'.format(top5_pr))"
   ]
  },
  {
   "cell_type": "code",
   "execution_count": 24,
   "id": "protective-defense",
   "metadata": {},
   "outputs": [],
   "source": [
    "hits_results = nx.hits(G_blogs)\n",
    "hub_scores, authority_scores = hits_results[0], hits_results[1]"
   ]
  },
  {
   "cell_type": "code",
   "execution_count": 25,
   "id": "amino-scroll",
   "metadata": {},
   "outputs": [
    {
     "name": "stdout",
     "output_type": "stream",
     "text": [
      "Five blogs with the highest \"hub score\" are\n",
      "['politicalstrategy.org', 'madkane.com/notable.html', 'liberaloasis.com', 'stagefour.typepad.com/commonprejudice', 'bodyandsoul.typepad.com']\n"
     ]
    }
   ],
   "source": [
    "hub_top5 = sorted(hub_scores.items(), key=lambda x:x[1], reverse=True)[:5]\n",
    "blogs = [b[0] for b in hub_top5]\n",
    "print('Five blogs with the highest \"hub score\" are\\n{}'.format(blogs))"
   ]
  },
  {
   "cell_type": "code",
   "execution_count": 26,
   "id": "higher-constitution",
   "metadata": {},
   "outputs": [
    {
     "name": "stdout",
     "output_type": "stream",
     "text": [
      "Five blogs with the highest \"authority score\" are\n",
      "['dailykos.com', 'talkingpointsmemo.com', 'atrios.blogspot.com', 'washingtonmonthly.com', 'talkleft.com']\n"
     ]
    }
   ],
   "source": [
    "authority_top5 = sorted(authority_scores.items(), key=lambda x:x[1], reverse=True)[:5]\n",
    "blogs = [b[0] for b in authority_top5]\n",
    "print('Five blogs with the highest \"authority score\" are\\n{}'.format(blogs))"
   ]
  },
  {
   "cell_type": "code",
   "execution_count": null,
   "id": "undefined-barbados",
   "metadata": {},
   "outputs": [],
   "source": []
  }
 ],
 "metadata": {
  "kernelspec": {
   "display_name": "Python 3",
   "language": "python",
   "name": "python3"
  },
  "language_info": {
   "codemirror_mode": {
    "name": "ipython",
    "version": 3
   },
   "file_extension": ".py",
   "mimetype": "text/x-python",
   "name": "python",
   "nbconvert_exporter": "python",
   "pygments_lexer": "ipython3",
   "version": "3.8.8"
  }
 },
 "nbformat": 4,
 "nbformat_minor": 5
}
